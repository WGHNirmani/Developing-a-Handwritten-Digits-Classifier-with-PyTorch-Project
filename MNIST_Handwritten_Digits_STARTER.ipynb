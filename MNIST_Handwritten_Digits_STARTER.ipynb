{
  "cells": [
    {
      "cell_type": "markdown",
      "metadata": {
        "id": "agUsfEmCpOzp"
      },
      "source": [
        "# Introduction\n",
        "\n",
        "In this project, you will build a neural network of your own design to evaluate the MNIST dataset.\n",
        "\n",
        "Some of the benchmark results on MNIST include can be found [on Yann LeCun's page](https://webcache.googleusercontent.com/search?q=cache:stAVPik6onEJ:yann.lecun.com/exdb/mnist) and include:\n",
        "\n",
        "88% [Lecun et al., 1998](https://hal.science/hal-03926082/document)\n",
        "\n",
        "95.3% [Lecun et al., 1998](https://hal.science/hal-03926082v1/document)\n",
        "\n",
        "99.65% [Ciresan et al., 2011](http://people.idsia.ch/~juergen/ijcai2011.pdf)\n",
        "\n",
        "\n",
        "MNIST is a great dataset for sanity checking your models, since the accuracy levels achieved by large convolutional neural networks and small linear models are both quite high. This makes it important to be familiar with the data.\n",
        "\n",
        "## Installation"
      ]
    },
    {
      "cell_type": "code",
      "execution_count": null,
      "metadata": {
        "id": "NvbOBwFNpOzr"
      },
      "outputs": [],
      "source": [
        "# Update the PATH to include the user installation directory.\n",
        "import os\n",
        "os.environ['PATH'] = f\"{os.environ['PATH']}:/root/.local/bin\"\n",
        "\n",
        "# Restart the Kernel before you move on to the next step."
      ]
    },
    {
      "cell_type": "markdown",
      "metadata": {
        "id": "6rb_pfo9pOzs"
      },
      "source": [
        "#### Important: Restart the Kernel before you move on to the next step."
      ]
    },
    {
      "cell_type": "code",
      "execution_count": null,
      "metadata": {
        "id": "4-hCQgG8pOzs"
      },
      "outputs": [],
      "source": [
        "# Install requirements\n",
        "!python -m pip install -r requirements.txt"
      ]
    },
    {
      "cell_type": "markdown",
      "metadata": {
        "id": "i8vJSkXspOzt"
      },
      "source": [
        "## Imports"
      ]
    },
    {
      "cell_type": "code",
      "execution_count": 1,
      "metadata": {
        "id": "UEAY9Vh_pOzt"
      },
      "outputs": [],
      "source": [
        "## This cell contains the essential imports you will need – DO NOT CHANGE THE CONTENTS! ##\n",
        "import torch\n",
        "import torch.nn as nn\n",
        "import torch.nn.functional as F\n",
        "import torch.optim as optim\n",
        "import torchvision\n",
        "import torchvision.transforms as transforms\n",
        "import matplotlib.pyplot as plt\n",
        "import numpy as np\n",
        "from torch.utils.data import DataLoader, random_split\n",
        "from sklearn.metrics import confusion_matrix\n",
        "import seaborn as sns\n",
        "import pandas as pd\n",
        "import random"
      ]
    },
    {
      "cell_type": "code",
      "source": [
        "device = torch.device('cuda' if torch.cuda.is_available() else 'cpu')\n",
        "device"
      ],
      "metadata": {
        "colab": {
          "base_uri": "https://localhost:8080/"
        },
        "id": "frult2P3pdtO",
        "outputId": "6b29f55d-fdbd-4195-f9e1-703b7f85b4d1"
      },
      "execution_count": 2,
      "outputs": [
        {
          "output_type": "execute_result",
          "data": {
            "text/plain": [
              "device(type='cpu')"
            ]
          },
          "metadata": {},
          "execution_count": 2
        }
      ]
    },
    {
      "cell_type": "markdown",
      "metadata": {
        "id": "0sXzG03PpOzu"
      },
      "source": [
        "## Load the Dataset\n",
        "\n",
        "Specify your transforms as a list if you intend to .\n",
        "The transforms module is already loaded as `transforms`.\n",
        "\n",
        "MNIST is fortunately included in the torchvision module.\n",
        "Then, you can create your dataset using the `MNIST` object from `torchvision.datasets` ([the documentation is available here](https://pytorch.org/vision/stable/datasets.html#mnist)).\n",
        "Make sure to specify `download=True`!\n",
        "\n",
        "Once your dataset is created, you'll also need to define a `DataLoader` from the `torch.utils.data` module for both the train and the test set."
      ]
    },
    {
      "cell_type": "code",
      "execution_count": 3,
      "metadata": {
        "colab": {
          "base_uri": "https://localhost:8080/"
        },
        "id": "TiKZXMnepOzu",
        "outputId": "71e4a891-86c1-4371-fc71-5b117c4d62fe"
      },
      "outputs": [
        {
          "output_type": "stream",
          "name": "stdout",
          "text": [
            "Downloading http://yann.lecun.com/exdb/mnist/train-images-idx3-ubyte.gz\n",
            "Failed to download (trying next):\n",
            "HTTP Error 403: Forbidden\n",
            "\n",
            "Downloading https://ossci-datasets.s3.amazonaws.com/mnist/train-images-idx3-ubyte.gz\n",
            "Downloading https://ossci-datasets.s3.amazonaws.com/mnist/train-images-idx3-ubyte.gz to data/MNIST/raw/train-images-idx3-ubyte.gz\n"
          ]
        },
        {
          "output_type": "stream",
          "name": "stderr",
          "text": [
            "100%|██████████| 9912422/9912422 [00:00<00:00, 15837853.34it/s]\n"
          ]
        },
        {
          "output_type": "stream",
          "name": "stdout",
          "text": [
            "Extracting data/MNIST/raw/train-images-idx3-ubyte.gz to data/MNIST/raw\n",
            "\n",
            "Downloading http://yann.lecun.com/exdb/mnist/train-labels-idx1-ubyte.gz\n",
            "Failed to download (trying next):\n",
            "HTTP Error 403: Forbidden\n",
            "\n",
            "Downloading https://ossci-datasets.s3.amazonaws.com/mnist/train-labels-idx1-ubyte.gz\n",
            "Downloading https://ossci-datasets.s3.amazonaws.com/mnist/train-labels-idx1-ubyte.gz to data/MNIST/raw/train-labels-idx1-ubyte.gz\n"
          ]
        },
        {
          "output_type": "stream",
          "name": "stderr",
          "text": [
            "100%|██████████| 28881/28881 [00:00<00:00, 476716.99it/s]\n"
          ]
        },
        {
          "output_type": "stream",
          "name": "stdout",
          "text": [
            "Extracting data/MNIST/raw/train-labels-idx1-ubyte.gz to data/MNIST/raw\n",
            "\n",
            "Downloading http://yann.lecun.com/exdb/mnist/t10k-images-idx3-ubyte.gz\n",
            "Failed to download (trying next):\n",
            "HTTP Error 403: Forbidden\n",
            "\n",
            "Downloading https://ossci-datasets.s3.amazonaws.com/mnist/t10k-images-idx3-ubyte.gz\n",
            "Downloading https://ossci-datasets.s3.amazonaws.com/mnist/t10k-images-idx3-ubyte.gz to data/MNIST/raw/t10k-images-idx3-ubyte.gz\n"
          ]
        },
        {
          "output_type": "stream",
          "name": "stderr",
          "text": [
            "100%|██████████| 1648877/1648877 [00:00<00:00, 4386046.24it/s]\n"
          ]
        },
        {
          "output_type": "stream",
          "name": "stdout",
          "text": [
            "Extracting data/MNIST/raw/t10k-images-idx3-ubyte.gz to data/MNIST/raw\n",
            "\n",
            "Downloading http://yann.lecun.com/exdb/mnist/t10k-labels-idx1-ubyte.gz\n",
            "Failed to download (trying next):\n",
            "HTTP Error 403: Forbidden\n",
            "\n",
            "Downloading https://ossci-datasets.s3.amazonaws.com/mnist/t10k-labels-idx1-ubyte.gz\n",
            "Downloading https://ossci-datasets.s3.amazonaws.com/mnist/t10k-labels-idx1-ubyte.gz to data/MNIST/raw/t10k-labels-idx1-ubyte.gz\n"
          ]
        },
        {
          "output_type": "stream",
          "name": "stderr",
          "text": [
            "100%|██████████| 4542/4542 [00:00<00:00, 2274961.64it/s]"
          ]
        },
        {
          "output_type": "stream",
          "name": "stdout",
          "text": [
            "Extracting data/MNIST/raw/t10k-labels-idx1-ubyte.gz to data/MNIST/raw\n",
            "\n"
          ]
        },
        {
          "output_type": "stream",
          "name": "stderr",
          "text": [
            "\n"
          ]
        }
      ],
      "source": [
        "# Defining transforms\n",
        "transform = transforms.Compose([transforms.ToTensor(), transforms.Normalize((0.5,), (0.5,))])\n",
        "\n",
        "# Loading the dataset\n",
        "mnist_dataset = torchvision.datasets.MNIST(root=\"data\", train=True, download=True, transform=transform)\n",
        "\n",
        "# Defining the sizes of train, validation, and test sets\n",
        "train_size = int(0.6 * len(mnist_dataset))  # 60% for training\n",
        "val_size = int(0.2 * len(mnist_dataset))    # 20% for validation\n",
        "test_size = len(mnist_dataset) - train_size - val_size  # Remaining for test (20%)\n",
        "\n",
        "# Splitting the MNIST dataset\n",
        "\n",
        "train_dataset, val_dataset, test_dataset = random_split(mnist_dataset, [train_size, val_size, test_size])\n",
        "\n",
        "# Create test set and define test dataloader\n",
        "train_loader = DataLoader(train_dataset, batch_size=128, shuffle=True)\n",
        "val_loader = DataLoader(val_dataset, batch_size=128)\n",
        "test_loader = DataLoader(test_dataset, batch_size=128)"
      ]
    },
    {
      "cell_type": "markdown",
      "metadata": {
        "id": "c5NOuQoMpOzu"
      },
      "source": [
        "## Justify your preprocessing\n",
        "\n",
        "In your own words, why did you choose the transforms you chose? If you didn't use any preprocessing steps, why not?"
      ]
    },
    {
      "cell_type": "markdown",
      "metadata": {
        "id": "P9t8DX2hpOzv"
      },
      "source": [
        "**DOUBLE CLICK THIS CELL TO MODIFY**"
      ]
    },
    {
      "cell_type": "markdown",
      "metadata": {
        "id": "IxvbcLmXpOzv"
      },
      "source": [
        "## Explore the Dataset\n",
        "Using matplotlib, numpy, and torch, explore the dimensions of your data.\n",
        "\n",
        "You can view images using the `show5` function defined below – it takes a data loader as an argument.\n",
        "Remember that normalized images will look really weird to you! You may want to try changing your transforms to view images.\n",
        "Typically using no transforms other than `toTensor()` works well for viewing – but not as well for training your network.\n",
        "If `show5` doesn't work, go back and check your code for creating your data loaders and your training/test sets."
      ]
    },
    {
      "cell_type": "code",
      "execution_count": 4,
      "metadata": {
        "id": "1MNra_ZIpOzw"
      },
      "outputs": [],
      "source": [
        "## This cell contains a function for showing 5 images from a dataloader – DO NOT CHANGE THE CONTENTS! ##\n",
        "def show5(img_loader):\n",
        "    dataiter = iter(img_loader)\n",
        "\n",
        "    batch = next(dataiter)\n",
        "    labels = batch[1][0:5]\n",
        "    images = batch[0][0:5]\n",
        "    for i in range(5):\n",
        "        print(int(labels[i].detach()))\n",
        "\n",
        "        image = images[i].numpy()\n",
        "        plt.imshow(image.T.squeeze().T)\n",
        "        plt.show()"
      ]
    },
    {
      "cell_type": "code",
      "execution_count": 5,
      "metadata": {
        "colab": {
          "base_uri": "https://localhost:8080/",
          "height": 1000
        },
        "id": "ncFMCzKypOzw",
        "outputId": "5dc19b05-05f6-47be-ac95-e75a8f0874c2"
      },
      "outputs": [
        {
          "output_type": "stream",
          "name": "stdout",
          "text": [
            "5\n"
          ]
        },
        {
          "output_type": "display_data",
          "data": {
            "text/plain": [
              "<Figure size 640x480 with 1 Axes>"
            ],
            "image/png": "[encoded data removed]"
          },
          "metadata": {}
        },
        {
          "output_type": "stream",
          "name": "stdout",
          "text": [
            "6\n"
          ]
        },
        {
          "output_type": "display_data",
          "data": {
            "text/plain": [
              "<Figure size 640x480 with 1 Axes>"
            ],
            "image/png": "[encoded data removed]"
          },
          "metadata": {}
        },
        {
          "output_type": "stream",
          "name": "stdout",
          "text": [
            "1\n"
          ]
        },
        {
          "output_type": "display_data",
          "data": {
            "text/plain": [
              "<Figure size 640x480 with 1 Axes>"
            ],
            "image/png": "[encoded data removed]"
          },
          "metadata": {}
        },
        {
          "output_type": "stream",
          "name": "stdout",
          "text": [
            "9\n"
          ]
        },
        {
          "output_type": "display_data",
          "data": {
            "text/plain": [
              "<Figure size 640x480 with 1 Axes>"
            ],
            "image/png": "[encoded data removed]"
          },
          "metadata": {}
        },
        {
          "output_type": "stream",
          "name": "stdout",
          "text": [
            "2\n"
          ]
        },
        {
          "output_type": "display_data",
          "data": {
            "text/plain": [
              "<Figure size 640x480 with 1 Axes>"
            ],
            "image/png": "[encoded data removed]"
          },
          "metadata": {}
        }
      ],
      "source": [
        "# Explore data\n",
        "show5(train_loader)"
      ]
    },
    {
      "cell_type": "markdown",
      "metadata": {
        "id": "MODs2V77pOzw"
      },
      "source": [
        "## Build your Neural Network\n",
        "Using the layers in `torch.nn` (which has been imported as `nn`) and the `torch.nn.functional` module (imported as `F`), construct a neural network based on the parameters of the dataset.\n",
        "Use any architecture you like.\n",
        "\n",
        "*Note*: If you did not flatten your tensors in your transforms or as part of your preprocessing and you are using only `Linear` layers, make sure to use the `Flatten` layer in your network!"
      ]
    },
    {
      "cell_type": "code",
      "execution_count": 6,
      "metadata": {
        "id": "ql568LnQpOzx"
      },
      "outputs": [],
      "source": [
        "class Net(nn.Module):\n",
        "    def __init__(self):\n",
        "        super().__init__()\n",
        "        self.activation = F.relu\n",
        "        self.layer1 = nn.Linear(28 * 28 * 1, 256)\n",
        "        self.layer2 = nn.Linear(256, 128)\n",
        "        self.layer3 = nn.Linear(128, 64)\n",
        "        self.layer4 = nn.Linear(64, 10)\n",
        "\n",
        "    def forward(self, x):\n",
        "        x = torch.flatten(x, 1)\n",
        "        x = self.activation(self.layer1(x))\n",
        "        x = self.activation(self.layer2(x))\n",
        "        x = self.activation(self.layer3(x))\n",
        "        x = self.layer4(x)\n",
        "        x = F.softmax(x, dim=1)\n",
        "        return x"
      ]
    },
    {
      "cell_type": "markdown",
      "metadata": {
        "id": "1oUCbV4WpOzx"
      },
      "source": [
        "Specify a loss function and an optimizer, and instantiate the model.\n",
        "\n",
        "If you use a less common loss function, please note why you chose that loss function in a comment."
      ]
    },
    {
      "cell_type": "code",
      "execution_count": 7,
      "metadata": {
        "id": "lxcY1cb3pOzy"
      },
      "outputs": [],
      "source": [
        "net = Net()\n",
        "\n",
        "optimizer = optim.SGD(net.parameters(), lr=0.01, momentum=0.99, weight_decay=0.001)\n",
        "criterion = nn.CrossEntropyLoss()"
      ]
    },
    {
      "cell_type": "markdown",
      "metadata": {
        "id": "H5_cWMISpOzy"
      },
      "source": [
        "## Running your Neural Network\n",
        "Use whatever method you like to train your neural network, and ensure you record the average loss at each epoch.\n",
        "Don't forget to use `torch.device()` and the `.to()` method for both your model and your data if you are using GPU!\n",
        "\n",
        "If you want to print your loss **during** each epoch, you can use the `enumerate` function and print the loss after a set number of batches. 250 batches works well for most people!"
      ]
    },
    {
      "cell_type": "code",
      "execution_count": 8,
      "metadata": {
        "colab": {
          "base_uri": "https://localhost:8080/"
        },
        "id": "49psbbmJpOzy",
        "outputId": "78247028-b62a-4f6f-dee7-f5b36fd96613"
      },
      "outputs": [
        {
          "output_type": "execute_result",
          "data": {
            "text/plain": [
              "Net(\n",
              "  (layer1): Linear(in_features=784, out_features=256, bias=True)\n",
              "  (layer2): Linear(in_features=256, out_features=128, bias=True)\n",
              "  (layer3): Linear(in_features=128, out_features=64, bias=True)\n",
              "  (layer4): Linear(in_features=64, out_features=10, bias=True)\n",
              ")"
            ]
          },
          "metadata": {},
          "execution_count": 8
        }
      ],
      "source": [
        "# Move the model to the GPU if CUDA is available\n",
        "device = torch.device(\"cuda:0\" if torch.cuda.is_available() else \"cpu\")\n",
        "net.to(device)"
      ]
    },
    {
      "cell_type": "code",
      "execution_count": 9,
      "metadata": {
        "colab": {
          "base_uri": "https://localhost:8080/"
        },
        "id": "BRzX1WW-pOzz",
        "outputId": "dbe0edeb-97c5-4ee8-9fbb-8405e87cec6c"
      },
      "outputs": [
        {
          "output_type": "stream",
          "name": "stdout",
          "text": [
            "Epoch 1 training accuracy: 34.09% training loss: 2.12298\n",
            "Epoch 1 validation accuracy: 56.91% validation loss: 1.89074\n",
            "Epoch 2 training accuracy: 63.69% training loss: 1.82352\n",
            "Epoch 2 validation accuracy: 62.82% validation loss: 1.83202\n",
            "Epoch 3 training accuracy: 65.91% training loss: 1.79989\n",
            "Epoch 3 validation accuracy: 65.16% validation loss: 1.80687\n",
            "Epoch 4 training accuracy: 72.86% training loss: 1.73303\n",
            "Epoch 4 validation accuracy: 79.97% validation loss: 1.66292\n",
            "Epoch 5 training accuracy: 84.95% training loss: 1.61396\n",
            "Epoch 5 validation accuracy: 88.36% validation loss: 1.57824\n",
            "Epoch 6 training accuracy: 89.22% training loss: 1.57092\n",
            "Epoch 6 validation accuracy: 88.62% validation loss: 1.57796\n",
            "Epoch 7 training accuracy: 90.52% training loss: 1.55791\n",
            "Epoch 7 validation accuracy: 91.64% validation loss: 1.54810\n",
            "Epoch 8 training accuracy: 92.32% training loss: 1.54226\n",
            "Epoch 8 validation accuracy: 92.28% validation loss: 1.54173\n",
            "Epoch 9 training accuracy: 93.38% training loss: 1.53255\n",
            "Epoch 9 validation accuracy: 93.17% validation loss: 1.53175\n",
            "Epoch 10 training accuracy: 91.71% training loss: 1.54711\n",
            "Epoch 10 validation accuracy: 90.93% validation loss: 1.55773\n",
            "Epoch 11 training accuracy: 92.66% training loss: 1.53769\n",
            "Epoch 11 validation accuracy: 93.43% validation loss: 1.53038\n",
            "Epoch 12 training accuracy: 93.85% training loss: 1.52652\n",
            "Epoch 12 validation accuracy: 93.65% validation loss: 1.52888\n",
            "Epoch 13 training accuracy: 94.41% training loss: 1.52220\n",
            "Epoch 13 validation accuracy: 93.90% validation loss: 1.52649\n",
            "Epoch 14 training accuracy: 93.98% training loss: 1.52710\n",
            "Epoch 14 validation accuracy: 92.43% validation loss: 1.54035\n",
            "Epoch 15 training accuracy: 93.63% training loss: 1.52884\n",
            "Epoch 15 validation accuracy: 93.92% validation loss: 1.52681\n",
            "Epoch 16 training accuracy: 94.16% training loss: 1.52351\n",
            "Epoch 16 validation accuracy: 93.83% validation loss: 1.52767\n",
            "Epoch 17 training accuracy: 94.18% training loss: 1.52382\n",
            "Epoch 17 validation accuracy: 93.74% validation loss: 1.52754\n",
            "Epoch 18 training accuracy: 95.02% training loss: 1.51633\n",
            "Epoch 18 validation accuracy: 94.86% validation loss: 1.51755\n",
            "Epoch 19 training accuracy: 94.55% training loss: 1.52047\n",
            "Epoch 19 validation accuracy: 93.73% validation loss: 1.52840\n",
            "Epoch 20 training accuracy: 95.07% training loss: 1.51659\n",
            "Epoch 20 validation accuracy: 92.71% validation loss: 1.53893\n"
          ]
        }
      ],
      "source": [
        "# number of epochs\n",
        "num_epochs = 20\n",
        "\n",
        "# creating lists for loss history\n",
        "train_loss_history = list()\n",
        "val_loss_history = list()\n",
        "\n",
        "# The start of the training\n",
        "for epoch in range(num_epochs):\n",
        "    # putting the model in training mode\n",
        "    net.train()\n",
        "    # setting the epoch loss and number of correct predictions to zero\n",
        "    train_loss = 0.0\n",
        "    train_correct = 0\n",
        "    total_predictions = 0\n",
        "\n",
        "    for i, data in enumerate(train_loader):\n",
        "        inputs, labels = data\n",
        "\n",
        "        if torch.cuda.is_available():\n",
        "            inputs, labels = inputs.to(device), labels.to(device)\n",
        "\n",
        "        optimizer.zero_grad()\n",
        "\n",
        "        outputs = net(inputs)\n",
        "\n",
        "        loss = criterion(outputs, labels)\n",
        "\n",
        "        loss.backward()\n",
        "\n",
        "        optimizer.step()\n",
        "\n",
        "        _, preds = torch.max(outputs.data, 1)\n",
        "        total_predictions += labels.size(0)\n",
        "        train_correct += (preds == labels).sum().item()\n",
        "        train_loss += loss.item()\n",
        "\n",
        "    print(f\"Epoch {epoch + 1} training accuracy: {train_correct/total_predictions * 100:.2f}% training loss: {train_loss/len(train_loader):.5f}\")\n",
        "    train_loss_history.append(train_loss/len(train_loader))\n",
        "\n",
        "    # The validation phase\n",
        "    val_loss = 0.0\n",
        "    val_correct = 0\n",
        "    total_predictions = 0\n",
        "    net.eval()\n",
        "    for inputs, labels in val_loader:\n",
        "        if torch.cuda.is_available():\n",
        "            inputs, labels = inputs.to(device), labels.to(device)\n",
        "\n",
        "        outputs = net(inputs)\n",
        "        loss = criterion(outputs, labels)\n",
        "\n",
        "        _, preds = torch.max(outputs.data, 1)\n",
        "        total_predictions += labels.size(0)\n",
        "        val_correct += (preds == labels).sum().item()\n",
        "        val_loss += loss.item()\n",
        "    print(f\"Epoch {epoch + 1} validation accuracy: {val_correct/total_predictions * 100:.2f}% validation loss: {val_loss/len(val_loader):.5f}\")\n",
        "    val_loss_history.append(val_loss/len(val_loader))"
      ]
    },
    {
      "cell_type": "markdown",
      "metadata": {
        "id": "YZMwuLMepOzz"
      },
      "source": [
        "Plot the training loss (and validation loss/accuracy, if recorded)."
      ]
    },
    {
      "cell_type": "code",
      "source": [
        "plt.plot(train_loss_history, label=\"Training Loss\")\n",
        "plt.plot(val_loss_history, label=\"Validation Loss\")\n",
        "plt.legend()\n",
        "plt.show()"
      ],
      "metadata": {
        "colab": {
          "base_uri": "https://localhost:8080/",
          "height": 430
        },
        "id": "Wfm1Dd7yrSlz",
        "outputId": "2b9d6db9-d755-449a-d227-b58a75446c6a"
      },
      "execution_count": 10,
      "outputs": [
        {
          "output_type": "display_data",
          "data": {
            "text/plain": [
              "<Figure size 640x480 with 1 Axes>"
            ],
            "image/png": "[encoded data removed]"
          },
          "metadata": {}
        }
      ]
    },
    {
      "cell_type": "markdown",
      "metadata": {
        "id": "DIbybGdupOzz"
      },
      "source": [
        "## Testing your model\n",
        "Using the previously created `DataLoader` for the test set, compute the percentage of correct predictions using the highest probability prediction.\n",
        "\n",
        "If your accuracy is over 90%, great work, but see if you can push a bit further!\n",
        "If your accuracy is under 90%, you'll need to make improvements.\n",
        "Go back and check your model architecture, loss function, and optimizer to make sure they're appropriate for an image classification task."
      ]
    },
    {
      "cell_type": "code",
      "execution_count": 11,
      "metadata": {
        "colab": {
          "base_uri": "https://localhost:8080/"
        },
        "id": "o4yyLaOHpOz0",
        "outputId": "3c446f7d-74cd-4e1a-b45d-7a67d4dbda03"
      },
      "outputs": [
        {
          "output_type": "stream",
          "name": "stdout",
          "text": [
            "Accuracy: 92.70%\n"
          ]
        }
      ],
      "source": [
        "correct_predictions = 0\n",
        "total_predictions = 0\n",
        "\n",
        "for inputs, labels in test_loader:\n",
        "    if torch.cuda.is_available():\n",
        "        inputs, labels = inputs.to(device), labels.to(device)\n",
        "\n",
        "    outputs = net(inputs)\n",
        "    _, preds = torch.max(outputs.data, 1)\n",
        "    total_predictions += labels.size(0)\n",
        "    correct_predictions += (preds == labels).sum().item()\n",
        "    accuracy = (correct_predictions / total_predictions) * 100\n",
        "\n",
        "print(f\"Accuracy: {accuracy:.2f}%\")"
      ]
    },
    {
      "cell_type": "markdown",
      "metadata": {
        "id": "RP7xatyIpOz1"
      },
      "source": [
        "## Improving your model\n",
        "\n",
        "Once your model is done training, try tweaking your hyperparameters and training again below to improve your accuracy on the test set!"
      ]
    },
    {
      "cell_type": "code",
      "execution_count": 12,
      "metadata": {
        "id": "Zmg0b-n2pOz1"
      },
      "outputs": [],
      "source": [
        "# exprimenting with the optimizer\n",
        "\n",
        "optimizer = optim.SGD(net.parameters(), lr=0.001, momentum=0.99, weight_decay= 0.001)"
      ]
    },
    {
      "cell_type": "code",
      "source": [
        "# number of epochs\n",
        "num_epochs = 20\n",
        "\n",
        "# creating lists for loss history\n",
        "train_loss_history = list()\n",
        "val_loss_history = list()\n",
        "\n",
        "# The start of the training\n",
        "for epoch in range(num_epochs):\n",
        "    # putting the model in training mode\n",
        "    net.train()\n",
        "    # setting the epoch loss and number of correct predictions to zero\n",
        "    train_loss = 0.0\n",
        "    train_correct = 0\n",
        "\n",
        "    for i, data in enumerate(train_loader):\n",
        "        inputs, labels = data\n",
        "\n",
        "        if torch.cuda.is_available():\n",
        "            inputs, labels = inputs.to(device), labels.to(device)\n",
        "\n",
        "        optimizer.zero_grad()\n",
        "\n",
        "        outputs = net(inputs)\n",
        "\n",
        "        loss = criterion(outputs, labels)\n",
        "\n",
        "        loss.backward()\n",
        "\n",
        "        optimizer.step()\n",
        "\n",
        "        _, preds = torch.max(outputs.data, 1)\n",
        "        train_correct += (preds == labels).sum().item()\n",
        "        train_loss += loss.item()\n",
        "\n",
        "    print(f\"Epoch {epoch + 1} training accuracy: {train_correct/len(train_loader.dataset) * 100:.2f}% training loss: {train_loss/len(train_loader):.5f}\")\n",
        "    train_loss_history.append(train_loss/len(train_loader))\n",
        "\n",
        "    # The validation phase\n",
        "    val_loss = 0.0\n",
        "    val_correct = 0\n",
        "    net.eval()\n",
        "    for inputs, labels in test_loader:\n",
        "        if torch.cuda.is_available():\n",
        "            inputs, labels = inputs.to(device), labels.to(device)\n",
        "\n",
        "        outputs = net(inputs)\n",
        "        loss = criterion(outputs, labels)\n",
        "\n",
        "        _, preds = torch.max(outputs.data, 1)\n",
        "        val_correct += (preds == labels).sum().item()\n",
        "        val_loss += loss.item()\n",
        "    print(f\"Epoch {epoch + 1} validation accuracy: {val_correct/len(test_loader.dataset) * 100:.2f}% validation loss: {val_loss/len(test_loader):.5f}\")\n",
        "    val_loss_history.append(val_loss/len(test_loader))"
      ],
      "metadata": {
        "colab": {
          "base_uri": "https://localhost:8080/"
        },
        "id": "Uq_Uxyl3rqFz",
        "outputId": "dd3392d5-6927-4546-d639-6e51bbc4996e"
      },
      "execution_count": 13,
      "outputs": [
        {
          "output_type": "stream",
          "name": "stdout",
          "text": [
            "Epoch 1 training accuracy: 96.18% training loss: 1.50301\n",
            "Epoch 1 validation accuracy: 96.18% validation loss: 1.50343\n",
            "Epoch 2 training accuracy: 96.98% training loss: 1.49509\n",
            "Epoch 2 validation accuracy: 96.42% validation loss: 1.50070\n",
            "Epoch 3 training accuracy: 97.21% training loss: 1.49371\n",
            "Epoch 3 validation accuracy: 96.45% validation loss: 1.50044\n",
            "Epoch 4 training accuracy: 97.35% training loss: 1.49288\n",
            "Epoch 4 validation accuracy: 96.52% validation loss: 1.50171\n",
            "Epoch 5 training accuracy: 97.47% training loss: 1.49235\n",
            "Epoch 5 validation accuracy: 96.49% validation loss: 1.50119\n",
            "Epoch 6 training accuracy: 97.59% training loss: 1.49185\n",
            "Epoch 6 validation accuracy: 96.43% validation loss: 1.50185\n",
            "Epoch 7 training accuracy: 97.60% training loss: 1.49198\n",
            "Epoch 7 validation accuracy: 96.68% validation loss: 1.50065\n",
            "Epoch 8 training accuracy: 97.67% training loss: 1.49109\n",
            "Epoch 8 validation accuracy: 96.58% validation loss: 1.50109\n",
            "Epoch 9 training accuracy: 97.74% training loss: 1.49074\n",
            "Epoch 9 validation accuracy: 96.45% validation loss: 1.50271\n",
            "Epoch 10 training accuracy: 97.74% training loss: 1.49105\n",
            "Epoch 10 validation accuracy: 96.44% validation loss: 1.50298\n",
            "Epoch 11 training accuracy: 97.79% training loss: 1.49044\n",
            "Epoch 11 validation accuracy: 96.67% validation loss: 1.50041\n",
            "Epoch 12 training accuracy: 97.89% training loss: 1.48967\n",
            "Epoch 12 validation accuracy: 96.58% validation loss: 1.49994\n",
            "Epoch 13 training accuracy: 97.89% training loss: 1.48949\n",
            "Epoch 13 validation accuracy: 96.78% validation loss: 1.50026\n",
            "Epoch 14 training accuracy: 97.94% training loss: 1.48901\n",
            "Epoch 14 validation accuracy: 96.68% validation loss: 1.50035\n",
            "Epoch 15 training accuracy: 98.02% training loss: 1.48854\n",
            "Epoch 15 validation accuracy: 96.80% validation loss: 1.49943\n",
            "Epoch 16 training accuracy: 98.02% training loss: 1.48875\n",
            "Epoch 16 validation accuracy: 96.73% validation loss: 1.50011\n",
            "Epoch 17 training accuracy: 98.08% training loss: 1.48780\n",
            "Epoch 17 validation accuracy: 96.78% validation loss: 1.49939\n",
            "Epoch 18 training accuracy: 98.09% training loss: 1.48764\n",
            "Epoch 18 validation accuracy: 96.73% validation loss: 1.49975\n",
            "Epoch 19 training accuracy: 98.11% training loss: 1.48752\n",
            "Epoch 19 validation accuracy: 96.73% validation loss: 1.49937\n",
            "Epoch 20 training accuracy: 98.21% training loss: 1.48641\n",
            "Epoch 20 validation accuracy: 96.91% validation loss: 1.49879\n"
          ]
        }
      ]
    },
    {
      "cell_type": "markdown",
      "source": [
        "##Final accuracy after tweaking the model"
      ],
      "metadata": {
        "id": "zSklak_vrwgt"
      }
    },
    {
      "cell_type": "code",
      "source": [
        "correct_predictions = 0\n",
        "total_predictions = 0\n",
        "\n",
        "for inputs, labels in test_loader:\n",
        "    if torch.cuda.is_available():\n",
        "        inputs, labels = inputs.to(device), labels.to(device)\n",
        "\n",
        "    outputs = net(inputs)\n",
        "    _, preds = torch.max(outputs.data, 1)\n",
        "    total_predictions += labels.size(0)\n",
        "    correct_predictions += (preds == labels).sum().item()\n",
        "    accuracy = (correct_predictions / total_predictions) * 100\n",
        "\n",
        "print(f\"Accuracy: {accuracy:.2f}%\")"
      ],
      "metadata": {
        "colab": {
          "base_uri": "https://localhost:8080/"
        },
        "id": "xrqjLAxuryNx",
        "outputId": "a8d4056a-08b4-4868-806f-6116e0caba60"
      },
      "execution_count": 14,
      "outputs": [
        {
          "output_type": "stream",
          "name": "stdout",
          "text": [
            "Accuracy: 96.91%\n"
          ]
        }
      ]
    },
    {
      "cell_type": "markdown",
      "metadata": {
        "id": "fg12A_yGpOz1"
      },
      "source": [
        "## Saving your model\n",
        "Using `torch.save`, save your model for future loading."
      ]
    },
    {
      "cell_type": "code",
      "execution_count": 15,
      "metadata": {
        "id": "r4-MziESpOz2"
      },
      "outputs": [],
      "source": [
        "torch.save(net.state_dict(), \"saved_model.pth\")"
      ]
    }
  ],
  "metadata": {
    "kernelspec": {
      "display_name": "Python 3",
      "language": "python",
      "name": "python3"
    },
    "language_info": {
      "codemirror_mode": {
        "name": "ipython",
        "version": 3
      },
      "file_extension": ".py",
      "mimetype": "text/x-python",
      "name": "python",
      "nbconvert_exporter": "python",
      "pygments_lexer": "ipython3",
      "version": "3.7.6"
    },
    "colab": {
      "provenance": []
    }
  },
  "nbformat": 4,
  "nbformat_minor": 0
}